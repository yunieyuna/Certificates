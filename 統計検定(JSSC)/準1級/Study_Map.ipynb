{
 "cells": [
  {
   "cell_type": "markdown",
   "metadata": {},
   "source": [
    "# 学习路线"
   ]
  },
  {
   "cell_type": "markdown",
   "metadata": {},
   "source": [
    "## 1. 数学\n",
    "\n",
    "- 1.1 视频\n",
    "    - [bilibili 《微积分》《高等数学》宋浩老师](https://www.bilibili.com/video/BV1UW411k7Jv?from=search&seid=15523247341403132766&spm_id_from=333.337.0.0)\n",
    "    - [bilibili 《线性代数》宋浩老师](https://www.bilibili.com/video/BV1aW411Q7x1?from=search&seid=10438647139759090833&spm_id_from=333.337.0.0)"
   ]
  },
  {
   "cell_type": "markdown",
   "metadata": {},
   "source": [
    "# 2. 统计\n",
    "\n",
    "- 2.1 视频\n",
    "    - [bilibili 上海交大 统计学原理](https://www.bilibili.com/video/BV1SW411q7PK?from=search&seid=5982497430771855202&spm_id_from=333.337.0.0)\n",
    "    - [bilibili 李航《统计学习方法》啃书指导](https://www.bilibili.com/video/BV1i4411G7Xv?from=search&seid=4907484530997232711&spm_id_from=333.337.0.0)\n",
    "    - [udemy Become a Probability & Statistics Master](https://www.udemy.com/course/statistics-probability/)\n",
    "    \n",
    "- 2.2 书\n",
    "    - [統計検定準1級 公式問題集](https://jitsumu.hondana.jp/book/b590880.html)"
   ]
  },
  {
   "cell_type": "code",
   "execution_count": null,
   "metadata": {},
   "outputs": [],
   "source": []
  }
 ],
 "metadata": {
  "language_info": {
   "name": "python"
  },
  "orig_nbformat": 4
 },
 "nbformat": 4,
 "nbformat_minor": 2
}
