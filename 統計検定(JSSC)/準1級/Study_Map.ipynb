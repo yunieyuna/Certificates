{
 "cells": [
  {
   "cell_type": "markdown",
   "metadata": {},
   "source": [
    "# 学习路线"
   ]
  },
  {
   "cell_type": "markdown",
   "metadata": {},
   "source": [
    "## 1. 数学\n",
    "\n",
    "- 1.1 书\n",
    "    - [同济大学高等数学第七版上册](https://github.com/crydemon/books/blob/master/%E6%95%B0%E5%AD%A6/%E5%90%8C%E6%B5%8E%E5%A4%A7%E5%AD%A6%E9%AB%98%E7%AD%89%E6%95%B0%E5%AD%A6%E7%AC%AC%E4%B8%83%E7%89%88%E4%B8%8A%E5%86%8C.pdf)\n",
    "- 1.2 视频\n",
    "    - [youtube 《高等数学 - 上册》 2 导数、求导法则、高阶导数、隐函数、参数方程、微分](https://www.youtube.com/watch?v=PtoUF8MDMWE&list=PLHpfx416EzLPdzBjoM4Z1TvbeIPqIgdBN&index=2)\n",
    "    - [bilibili 《微积分》《高等数学》宋浩老师](https://www.bilibili.com/video/BV1UW411k7Jv?from=search&seid=15523247341403132766&spm_id_from=333.337.0.0)\n",
    "    - [bilibili 《线性代数》宋浩老师](https://www.bilibili.com/video/BV1aW411Q7x1?from=search&seid=10438647139759090833&spm_id_from=333.337.0.0)"
   ]
  },
  {
   "cell_type": "markdown",
   "metadata": {},
   "source": [
    "# 2. 统计\n",
    "\n",
    "- 2.1 书\n",
    "    - [統計検定準1級 公式問題集](https://jitsumu.hondana.jp/book/b590880.html)\n",
    "- 2.2 视频\n",
    "    - [bilibili 上海交大 统计学原理](https://www.bilibili.com/video/BV1SW411q7PK?from=search&seid=5982497430771855202&spm_id_from=333.337.0.0)\n",
    "    - [bilibili 李航《统计学习方法》啃书指导](https://www.bilibili.com/video/BV1i4411G7Xv?from=search&seid=4907484530997232711&spm_id_from=333.337.0.0)\n",
    "    - [udemy Become a Probability & Statistics Master](https://www.udemy.com/course/statistics-probability/)"
   ]
  },
  {
   "cell_type": "code",
   "execution_count": null,
   "metadata": {},
   "outputs": [],
   "source": []
  },
  {
   "cell_type": "code",
   "execution_count": null,
   "metadata": {},
   "outputs": [],
   "source": []
  }
 ],
 "metadata": {
  "language_info": {
   "name": "python"
  },
  "orig_nbformat": 4
 },
 "nbformat": 4,
 "nbformat_minor": 2
}
